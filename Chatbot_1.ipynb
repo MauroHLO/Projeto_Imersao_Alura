{
  "nbformat": 4,
  "nbformat_minor": 0,
  "metadata": {
    "colab": {
      "provenance": [],
      "authorship_tag": "ABX9TyPGSovYKj48XxEiIVJ9jxD8",
      "include_colab_link": true
    },
    "kernelspec": {
      "name": "python3",
      "display_name": "Python 3"
    },
    "language_info": {
      "name": "python"
    }
  },
  "cells": [
    {
      "cell_type": "markdown",
      "metadata": {
        "id": "view-in-github",
        "colab_type": "text"
      },
      "source": [
        "<a href=\"https://colab.research.google.com/github/MauroHLO/Projeto_Imersao_Alura/blob/main/Chatbot_1.ipynb\" target=\"_parent\"><img src=\"https://colab.research.google.com/assets/colab-badge.svg\" alt=\"Open In Colab\"/></a>"
      ]
    },
    {
      "cell_type": "markdown",
      "source": [
        "Instalando a SDK do Google (coisas necessarias pra logica e respostas do chatbot)"
      ],
      "metadata": {
        "id": "73X8f65nierf"
      }
    },
    {
      "cell_type": "code",
      "source": [
        "!pip install -q -U google-generativeai"
      ],
      "metadata": {
        "id": "Rx-P-uSGiTou"
      },
      "execution_count": null,
      "outputs": []
    },
    {
      "cell_type": "markdown",
      "source": [
        "Importando as informações do SDK para python e criando a interface inicial do chatbot com base na minha API Key"
      ],
      "metadata": {
        "id": "Fg90FBOui_u_"
      }
    },
    {
      "cell_type": "code",
      "source": [
        "# Import the Python SDK\n",
        "import google.generativeai as genai\n",
        "from google.colab import userdata\n",
        "api_key = userdata.get(\"secret_key\")\n",
        "genai.configure(api_key=api_key)"
      ],
      "metadata": {
        "id": "ygo74mNri08z"
      },
      "execution_count": 65,
      "outputs": []
    },
    {
      "cell_type": "markdown",
      "source": [
        "Listando os modelos disponiveis:"
      ],
      "metadata": {
        "id": "CwCM7iwwjONv"
      }
    },
    {
      "cell_type": "code",
      "source": [
        "for m in genai.list_models():\n",
        "  if \"generateContent\" in m.supported_generation_methods:\n",
        "    print(m.name)"
      ],
      "metadata": {
        "colab": {
          "base_uri": "https://localhost:8080/",
          "height": 139
        },
        "id": "SDTpOnsLjMag",
        "outputId": "5e28df30-221f-43d9-f46f-64b8b37adfcd"
      },
      "execution_count": 66,
      "outputs": [
        {
          "output_type": "stream",
          "name": "stdout",
          "text": [
            "models/gemini-1.0-pro\n",
            "models/gemini-1.0-pro-001\n",
            "models/gemini-1.0-pro-latest\n",
            "models/gemini-1.0-pro-vision-latest\n",
            "models/gemini-1.5-pro-latest\n",
            "models/gemini-pro\n",
            "models/gemini-pro-vision\n"
          ]
        }
      ]
    },
    {
      "cell_type": "markdown",
      "source": [
        "Adicionado os parametros do chatbot:"
      ],
      "metadata": {
        "id": "EiATOGgoq4et"
      }
    },
    {
      "cell_type": "code",
      "source": [
        "generation_config = {\n",
        "    \"candidate_count\": 1,\n",
        "    \"temperature\": 0.5,\n",
        "}"
      ],
      "metadata": {
        "id": "PLjk-5vAlVQA"
      },
      "execution_count": 67,
      "outputs": []
    },
    {
      "cell_type": "code",
      "source": [
        "safety_settings = {\n",
        "    \"HARASSMENT\": \"BLOCK_NONE\",\n",
        "    \"HATE\": \"BLOCK_NONE\",\n",
        "    \"SEXUAL\": \"BLOCK_NONE\",\n",
        "    \"DANGEROUS\": \"BLOCK_NONE\",\n",
        "}"
      ],
      "metadata": {
        "id": "UoyYRk6MnTzS"
      },
      "execution_count": 68,
      "outputs": []
    },
    {
      "cell_type": "markdown",
      "source": [
        "Inicializando o modelo"
      ],
      "metadata": {
        "id": "YGG1RgKbrdGm"
      }
    },
    {
      "cell_type": "code",
      "source": [
        "model = genai.GenerativeModel(model_name=\"gemini-1.0-pro\",\n",
        "                              generation_config=generation_config,\n",
        "                              safety_settings=safety_settings)"
      ],
      "metadata": {
        "id": "JzQ6TepZq9n6"
      },
      "execution_count": 69,
      "outputs": []
    },
    {
      "cell_type": "markdown",
      "source": [
        "Retornando uma resposta ao usuario:"
      ],
      "metadata": {
        "id": "sKJdQvu42LqK"
      }
    },
    {
      "cell_type": "code",
      "source": [
        "response = model.generate_content(\"Fale um pouco sobre IA\")\n",
        "print(response.text)"
      ],
      "metadata": {
        "colab": {
          "base_uri": "https://localhost:8080/",
          "height": 645
        },
        "id": "2Hd6jYWu2RRf",
        "outputId": "495cc289-9d79-4dcf-aef7-abfbea446591"
      },
      "execution_count": 73,
      "outputs": [
        {
          "output_type": "stream",
          "name": "stdout",
          "text": [
            "**Inteligência Artificial (IA)**\n",
            "\n",
            "A Inteligência Artificial (IA) é um campo da ciência da computação que se concentra no desenvolvimento de sistemas de computador que podem executar tarefas que normalmente requerem inteligência humana, como aprendizado, resolução de problemas e tomada de decisão.\n",
            "\n",
            "**Tipos de IA:**\n",
            "\n",
            "* **IA Fraca (Narrow AI):** Sistemas projetados para executar tarefas específicas, como reconhecimento de fala ou jogo de xadrez.\n",
            "* **IA Geral (AGI):** Sistemas que podem executar uma ampla gama de tarefas intelectuais, como humanos.\n",
            "* **IA Superinteligente (ASI):** Sistemas que superam as capacidades intelectuais humanas em todas as áreas.\n",
            "\n",
            "**Aplicações da IA:**\n",
            "\n",
            "A IA tem uma ampla gama de aplicações em vários setores, incluindo:\n",
            "\n",
            "* **Saúde:** Diagnóstico médico, tratamento personalizado e descoberta de medicamentos.\n",
            "* **Finanças:** Detecção de fraudes, gestão de investimentos e análise de mercado.\n",
            "* **Transporte:** Veículos autônomos, otimização de rotas e gerenciamento de tráfego.\n",
            "* **Entretenimento:** Jogos, filmes e música gerados por IA.\n",
            "* **Pesquisa:** Automação de tarefas complexas, análise de dados e descobertas científicas.\n",
            "\n",
            "**Benefícios da IA:**\n",
            "\n",
            "* **Automação:** Liberta os humanos de tarefas repetitivas e demoradas.\n",
            "* **Eficiência:** Otimiza processos e melhora a produtividade.\n",
            "* **Personalização:** Oferece experiências personalizadas com base nas preferências e comportamentos do usuário.\n",
            "* **Inovação:** Gera novas ideias e soluções que podem não ser possíveis para humanos.\n",
            "\n",
            "**Desafios da IA:**\n",
            "\n",
            "* **Preconceito:** Os sistemas de IA podem perpetuar preconceitos existentes nos dados usados para treiná-los.\n",
            "* **Perda de empregos:** A automação pode levar à perda de empregos em alguns setores.\n",
            "* **Privacidade:** Os sistemas de IA podem coletar e analisar grandes quantidades de dados pessoais, levantando preocupações com a privacidade.\n",
            "* **Regulamentação:** A IA apresenta desafios éticos e jurídicos que requerem regulamentação cuidadosa.\n",
            "\n",
            "A IA está evoluindo rapidamente e tem o potencial de transformar muitos aspectos de nossas vidas. Compreender seus benefícios e desafios é crucial para aproveitar seu poder e mitigar seus riscos.\n"
          ]
        }
      ]
    },
    {
      "cell_type": "markdown",
      "source": [
        "Iniciando o Chatbot"
      ],
      "metadata": {
        "id": "uN_uwfj434CU"
      }
    },
    {
      "cell_type": "code",
      "source": [
        "chat = model.start_chat(history=[])"
      ],
      "metadata": {
        "id": "p8L5XVEC33c_"
      },
      "execution_count": 74,
      "outputs": []
    },
    {
      "cell_type": "code",
      "source": [
        "prompt = input(\"No que posso lhe auxiliar hoje? \\n\")\n",
        "\n",
        "while prompt != \"Estou satisfeito\":\n",
        "  response = chat.send_message(prompt)\n",
        "  print(\"Resposta: \", response.text, \"\\n\")\n",
        "  prompt = input(\"Precisa de mais alguma coisa? \\n\")"
      ],
      "metadata": {
        "colab": {
          "base_uri": "https://localhost:8080/",
          "height": 868
        },
        "id": "iOI8klD74b6k",
        "outputId": "1273434f-c0cc-4883-e60a-70ba6ff9518c"
      },
      "execution_count": 75,
      "outputs": [
        {
          "name": "stdout",
          "output_type": "stream",
          "text": [
            "No que posso lhe auxiliar hoje? \n",
            "Quais são os 27 estados brasileiros?\n",
            "Resposta:  **Região Norte**\n",
            "* Acre\n",
            "* Amapá\n",
            "* Amazonas\n",
            "* Pará\n",
            "* Rondônia\n",
            "* Roraima\n",
            "* Tocantins\n",
            "\n",
            "**Região Nordeste**\n",
            "* Alagoas\n",
            "* Bahia\n",
            "* Ceará\n",
            "* Maranhão\n",
            "* Paraíba\n",
            "* Pernambuco\n",
            "* Piauí\n",
            "* Rio Grande do Norte\n",
            "* Sergipe\n",
            "\n",
            "**Região Centro-Oeste**\n",
            "* Distrito Federal\n",
            "* Goiás\n",
            "* Mato Grosso\n",
            "* Mato Grosso do Sul\n",
            "\n",
            "**Região Sudeste**\n",
            "* Espírito Santo\n",
            "* Minas Gerais\n",
            "* Rio de Janeiro\n",
            "* São Paulo\n",
            "\n",
            "**Região Sul**\n",
            "* Paraná\n",
            "* Rio Grande do Sul\n",
            "* Santa Catarina \n",
            "\n",
            "Precisa de mais alguma coisa? \n",
            "Qual a capital do Brasil?\n",
            "Resposta:  Brasília \n",
            "\n",
            "Precisa de mais alguma coisa? \n",
            "em que região está situada a capital?\n",
            "Resposta:  Centro-Oeste \n",
            "\n",
            "Precisa de mais alguma coisa? \n",
            "Estou satisfeito\n"
          ]
        }
      ]
    }
  ]
}