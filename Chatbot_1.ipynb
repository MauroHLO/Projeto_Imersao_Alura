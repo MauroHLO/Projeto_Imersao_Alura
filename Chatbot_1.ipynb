{
  "nbformat": 4,
  "nbformat_minor": 0,
  "metadata": {
    "colab": {
      "provenance": [],
      "authorship_tag": "ABX9TyPaxN3wL7y6SHNCocVSXYR/",
      "include_colab_link": true
    },
    "kernelspec": {
      "name": "python3",
      "display_name": "Python 3"
    },
    "language_info": {
      "name": "python"
    }
  },
  "cells": [
    {
      "cell_type": "markdown",
      "metadata": {
        "id": "view-in-github",
        "colab_type": "text"
      },
      "source": [
        "<a href=\"https://colab.research.google.com/github/MauroHLO/Projeto_Imersao_Alura/blob/main/Chatbot_1.ipynb\" target=\"_parent\"><img src=\"https://colab.research.google.com/assets/colab-badge.svg\" alt=\"Open In Colab\"/></a>"
      ]
    },
    {
      "cell_type": "markdown",
      "source": [
        "Instalando a SDK do Google (coisas necessarias pra logica e respostas do chatbot)"
      ],
      "metadata": {
        "id": "73X8f65nierf"
      }
    },
    {
      "cell_type": "code",
      "source": [
        "!pip install -q -U google-generativeai"
      ],
      "metadata": {
        "id": "Rx-P-uSGiTou"
      },
      "execution_count": null,
      "outputs": []
    },
    {
      "cell_type": "markdown",
      "source": [
        "Importando as informações do SDK para python e criando a interface inicial do chatbot com base na minha API Key"
      ],
      "metadata": {
        "id": "Fg90FBOui_u_"
      }
    },
    {
      "cell_type": "code",
      "source": [
        "# Import the Python SDK\n",
        "import google.generativeai as genai\n",
        "from google.colab import userdata\n",
        "api_key = userdata.get(\"secret_key\")\n",
        "genai.configure(api_key=api_key)"
      ],
      "metadata": {
        "id": "ygo74mNri08z"
      },
      "execution_count": 65,
      "outputs": []
    },
    {
      "cell_type": "markdown",
      "source": [
        "Listando os modelos disponiveis:"
      ],
      "metadata": {
        "id": "CwCM7iwwjONv"
      }
    },
    {
      "cell_type": "code",
      "source": [
        "for m in genai.list_models():\n",
        "  if \"generateContent\" in m.supported_generation_methods:\n",
        "    print(m.name)"
      ],
      "metadata": {
        "colab": {
          "base_uri": "https://localhost:8080/",
          "height": 139
        },
        "id": "SDTpOnsLjMag",
        "outputId": "5e28df30-221f-43d9-f46f-64b8b37adfcd"
      },
      "execution_count": 66,
      "outputs": [
        {
          "output_type": "stream",
          "name": "stdout",
          "text": [
            "models/gemini-1.0-pro\n",
            "models/gemini-1.0-pro-001\n",
            "models/gemini-1.0-pro-latest\n",
            "models/gemini-1.0-pro-vision-latest\n",
            "models/gemini-1.5-pro-latest\n",
            "models/gemini-pro\n",
            "models/gemini-pro-vision\n"
          ]
        }
      ]
    },
    {
      "cell_type": "markdown",
      "source": [
        "Adicionado os parametros do chatbot:"
      ],
      "metadata": {
        "id": "EiATOGgoq4et"
      }
    },
    {
      "cell_type": "code",
      "source": [
        "generation_config = {\n",
        "    \"candidate_count\": 1,\n",
        "    \"temperature\": 0.5,\n",
        "}"
      ],
      "metadata": {
        "id": "PLjk-5vAlVQA"
      },
      "execution_count": 67,
      "outputs": []
    },
    {
      "cell_type": "code",
      "source": [
        "safety_settings = {\n",
        "    \"HARASSMENT\": \"BLOCK_NONE\",\n",
        "    \"HATE\": \"BLOCK_NONE\",\n",
        "    \"SEXUAL\": \"BLOCK_NONE\",\n",
        "    \"DANGEROUS\": \"BLOCK_NONE\",\n",
        "}"
      ],
      "metadata": {
        "id": "UoyYRk6MnTzS"
      },
      "execution_count": 68,
      "outputs": []
    },
    {
      "cell_type": "markdown",
      "source": [
        "Inicializando o modelo"
      ],
      "metadata": {
        "id": "YGG1RgKbrdGm"
      }
    },
    {
      "cell_type": "code",
      "source": [
        "model = genai.GenerativeModel(model_name=\"gemini-1.0-pro\",\n",
        "                              generation_config=generation_config,\n",
        "                              safety_settings=safety_settings)"
      ],
      "metadata": {
        "id": "JzQ6TepZq9n6"
      },
      "execution_count": 69,
      "outputs": []
    },
    {
      "cell_type": "markdown",
      "source": [
        "Retornando uma resposta ao usuario:"
      ],
      "metadata": {
        "id": "sKJdQvu42LqK"
      }
    },
    {
      "cell_type": "code",
      "source": [
        "response = model.generate_content(\"O que deve ser feito quando a ignição do carro está travando, no modelo de carro Tracker 2018\")\n",
        "print(response.text)"
      ],
      "metadata": {
        "colab": {
          "base_uri": "https://localhost:8080/",
          "height": 662
        },
        "id": "2Hd6jYWu2RRf",
        "outputId": "e6768f53-1672-4845-8a3d-2b061849d3b6"
      },
      "execution_count": 70,
      "outputs": [
        {
          "output_type": "stream",
          "name": "stdout",
          "text": [
            "**Passos para resolver o problema de travamento da ignição no Tracker 2018:**\n",
            "\n",
            "**1. Verifique a bateria:**\n",
            "* Certifique-se de que a bateria esteja carregada e conectada corretamente.\n",
            "* Use um multímetro para verificar a voltagem da bateria, que deve estar acima de 12,6 volts.\n",
            "\n",
            "**2. Inspecione a chave:**\n",
            "* Verifique se a chave está danificada ou gasta.\n",
            "* Tente usar uma chave reserva, se disponível.\n",
            "\n",
            "**3. Limpe o cilindro da fechadura:**\n",
            "* Use um spray lubrificante de grafite ou WD-40 para limpar o cilindro da fechadura.\n",
            "* Insira a chave e gire-a para frente e para trás para distribuir o lubrificante.\n",
            "\n",
            "**4. Verifique o sistema de direção:**\n",
            "* Gire o volante totalmente para a esquerda e depois para a direita.\n",
            "* Se o volante travar, isso pode indicar um problema com o sistema de direção, que pode estar impedindo a ignição de girar.\n",
            "\n",
            "**5. Verifique os fusíveis:**\n",
            "* Localize a caixa de fusíveis do carro e verifique se algum fusível relacionado à ignição está queimado.\n",
            "* Substitua quaisquer fusíveis queimados por novos do mesmo amperagem.\n",
            "\n",
            "**6. Verifique o interruptor de ignição:**\n",
            "* Se os passos anteriores não resolverem o problema, pode ser necessário substituir o interruptor de ignição.\n",
            "* Isso é melhor feito por um mecânico qualificado.\n",
            "\n",
            "**7. Verifique o módulo de controle do motor (ECM):**\n",
            "* O ECM é responsável por controlar a ignição.\n",
            "* Se houver um problema com o ECM, isso pode causar problemas de ignição.\n",
            "* Um mecânico pode diagnosticar e reparar quaisquer problemas com o ECM.\n",
            "\n",
            "**Observações:**\n",
            "\n",
            "* Se você não se sentir confortável em realizar qualquer um desses passos, consulte um mecânico qualificado.\n",
            "* Nunca force a ignição, pois isso pode causar mais danos.\n",
            "* Se você tiver um imobilizador de ignição, certifique-se de que a chave esteja programada corretamente para o carro.\n"
          ]
        }
      ]
    },
    {
      "cell_type": "markdown",
      "source": [
        "Iniciando o Chatbot"
      ],
      "metadata": {
        "id": "uN_uwfj434CU"
      }
    },
    {
      "cell_type": "code",
      "source": [
        "chat = model.start_chat(history=[])"
      ],
      "metadata": {
        "id": "p8L5XVEC33c_"
      },
      "execution_count": 71,
      "outputs": []
    },
    {
      "cell_type": "code",
      "source": [
        "prompt = input(\"No que posso lhe auxiliar hoje? \\n\")\n",
        "\n",
        "while prompt != \"Estou satisfeito\":\n",
        "  response = chat.send_message(prompt)\n",
        "  print(\"Resposta: \", response.text, \"\\n\")\n",
        "  prompt = input(\"Precisa de mais alguma coisa? \\n\")"
      ],
      "metadata": {
        "id": "iOI8klD74b6k"
      },
      "execution_count": null,
      "outputs": []
    }
  ]
}